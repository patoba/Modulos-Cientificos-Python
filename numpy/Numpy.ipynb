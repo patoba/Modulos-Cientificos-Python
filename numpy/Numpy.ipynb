{
 "cells": [
  {
   "cell_type": "code",
   "execution_count": 2,
   "metadata": {
    "ExecuteTime": {
     "end_time": "2019-01-07T00:43:11.120860Z",
     "start_time": "2019-01-07T00:43:10.991335Z"
    }
   },
   "outputs": [
    {
     "ename": "SyntaxError",
     "evalue": "invalid syntax (<ipython-input-2-44d4305afe27>, line 4)",
     "output_type": "error",
     "traceback": [
      "\u001b[1;36m  File \u001b[1;32m\"<ipython-input-2-44d4305afe27>\"\u001b[1;36m, line \u001b[1;32m4\u001b[0m\n\u001b[1;33m    Indexacion particion iteracion\u001b[0m\n\u001b[1;37m                       ^\u001b[0m\n\u001b[1;31mSyntaxError\u001b[0m\u001b[1;31m:\u001b[0m invalid syntax\n"
     ]
    }
   ],
   "source": [
    "Creacion\n",
    "Atributos\n",
    "Funciones\n",
    "Indexacion particion iteracion \n",
    "operaciones \n",
    "metodos"
   ]
  },
  {
   "cell_type": "markdown",
   "metadata": {},
   "source": [
    "## NumPy\n",
    "\n",
    "NumPy es la principal biblioteca de la computación científica en python. El corazón de NumPy es la clase ndarray con esta podemos realizar diferentes tipos de operaciones matemáticas como:\n",
    "* Algebra Lineal Basica\n",
    "* Operaciones Lógicas\n",
    "* Ordenamiento\n",
    "* Operaciones estadísticas básicas\n",
    "* Transformaciones discretas de Fourier\n",
    "\n",
    "### Arreglo \n",
    "Es una colección de elementos de un mismo tipo de dato. La dimensión de un arreglo es la cantidad de indices necesarias para acceder a un elemento del arreglo.\n",
    "\n",
    "![](../img/img_00.jpg)\n",
    "\n",
    "### ndarray\n",
    "\n",
    "Para la creación de un arreglo en NumPy, se utiliza la clase ndarray.\n",
    "\n"
   ]
  },
  {
   "cell_type": "code",
   "execution_count": 3,
   "metadata": {},
   "outputs": [
    {
     "name": "stdout",
     "output_type": "stream",
     "text": [
      "[[1 2]\n",
      " [3 4]]\n"
     ]
    }
   ],
   "source": [
    "# Importamos NumPy\n",
    "import numpy as np # Por convención se usa el pseudonimo np\n",
    "\n",
    "# Recibe como parametro una lista\n",
    "arreglo = np.array([[1, 2],\n",
    "                    [3, 4]])\n",
    "\n",
    "lista = [[3, 4],[5, 6]]\n",
    "\n",
    "arreglo_lista = np.array(lista)\n",
    "\n",
    "print(arreglo)"
   ]
  },
  {
   "cell_type": "markdown",
   "metadata": {},
   "source": [
    "Los atributos más importantes del ndarray son los siguientes.\n",
    "\n",
    "| Atributo | Descripción                                                    |\n",
    "|----------|----------------------------------------------------------------|\n",
    "| ndim     | Número de dimensiones del arreglo                              |\n",
    "| size     | Número total de elementos del arreglo.                         |\n",
    "| shape    | Tupla de la cantidad de elementos de cada dimensión.           |\n",
    "| dtype    | Tipo de dato de los elementos arreglo(Tipos propios de numpy). |"
   ]
  },
  {
   "cell_type": "code",
   "execution_count": 4,
   "metadata": {},
   "outputs": [
    {
     "name": "stdout",
     "output_type": "stream",
     "text": [
      "Número de dimensiones del arreglo: 2\n",
      "Número total de elementos del arreglo: 9\n",
      "Cantidad de elementos de cada dimensión: (3, 3)\n",
      "Tipo de dato de los elementos arreglo: int32\n"
     ]
    }
   ],
   "source": [
    "\n",
    "arreglo_1 = np.array([[1, 2, 3],\n",
    "                      [4, 5, 6],\n",
    "                      [7, 8, 9]]) \n",
    "\n",
    "print(\"Número de dimensiones del arreglo: {}\".format(arreglo_1.ndim))\n",
    "print(\"Número total de elementos del arreglo: {}\".format(arreglo_1.size))\n",
    "print(\"Cantidad de elementos de cada dimensión: {}\".format(arreglo_1.shape))\n",
    "print(\"Tipo de dato de los elementos arreglo: {}\".format(arreglo_1.dtype))"
   ]
  },
  {
   "cell_type": "markdown",
   "metadata": {},
   "source": [
    "### Funciones de NumPy\n",
    "\n",
    "Funciones para la creación de ndarrays rellenados."
   ]
  },
  {
   "cell_type": "code",
   "execution_count": 5,
   "metadata": {},
   "outputs": [
    {
     "name": "stdout",
     "output_type": "stream",
     "text": [
      "Arreglo de 0 a 8: [0 1 2 3 4 5 6 7 8] \n",
      "Arreglo de 0 a 16 de 2 en 2: [ 0  2  4  6  8 10 12 14 16]\n",
      "Arreglo de 9 elementos segmentados uniformemente entre 0 y 5 : [0.    0.625 1.25  1.875 2.5   3.125 3.75  4.375 5.   ]\n",
      "Arreglo de linspace sin especificar cantidad de elementos: \n",
      "[0.         0.10204082 0.20408163 0.30612245 0.40816327 0.51020408\n",
      " 0.6122449  0.71428571 0.81632653 0.91836735 1.02040816 1.12244898\n",
      " 1.2244898  1.32653061 1.42857143 1.53061224 1.63265306 1.73469388\n",
      " 1.83673469 1.93877551 2.04081633 2.14285714 2.24489796 2.34693878\n",
      " 2.44897959 2.55102041 2.65306122 2.75510204 2.85714286 2.95918367\n",
      " 3.06122449 3.16326531 3.26530612 3.36734694 3.46938776 3.57142857\n",
      " 3.67346939 3.7755102  3.87755102 3.97959184 4.08163265 4.18367347\n",
      " 4.28571429 4.3877551  4.48979592 4.59183673 4.69387755 4.79591837\n",
      " 4.89795918 5.        ]\n",
      "Arreglo de unos: \n",
      "[[1. 1. 1.]\n",
      " [1. 1. 1.]\n",
      " [1. 1. 1.]]\n",
      "Arreglo de ceros: \n",
      "[[0. 0. 0.]\n",
      " [0. 0. 0.]\n",
      " [0. 0. 0.]]\n"
     ]
    }
   ],
   "source": [
    "# Creación de matriz unidimensional \n",
    "arreglo_rango_0 = np.arange(9)\n",
    "print(\"Arreglo de 0 a 8: {} \".format(arreglo_rango_0))\n",
    "\n",
    "# Creación de matriz unidimensional con principio en 0, final en 18 y recorriendo de 2 en 2\n",
    "arreglo_rango_1 = np.arange(0, 18, 2) # Con arange los elementos del arreglo son enteros\n",
    "print(\"Arreglo de 0 a 16 de 2 en 2: {}\".format(arreglo_rango_1))\n",
    "\n",
    "# Creacion de matriz con linspace de un limite n a un limite m con k elementos\n",
    "# np.linspace(n, m , k)\n",
    "arreglo_espacio_lineal = np.linspace(0, 5, 9) # Son flotantes\n",
    "print(\"Arreglo de 9 elementos segmentados uniformemente entre 0 y 5 : {}\".format(arreglo_espacio_lineal))\n",
    "\n",
    "# Por default se generan 50 elementos\n",
    "arreglo_espacio_default = np.linspace(0, 5)\n",
    "print(\"Arreglo de linspace sin especificar cantidad de elementos: \\n{}\".format(arreglo_espacio_default))\n",
    "\n",
    "# Creacion de un arreglo el cual sus elementos son uno\n",
    "arreglo_unos = np.ones((3,3))\n",
    "print(\"Arreglo de unos: \\n{}\".format(arreglo_unos))\n",
    "\n",
    "# Creacion de un arreglo el cual sus elementos son cero\n",
    "arreglo_ceros = np.zeros((3,3))\n",
    "print(\"Arreglo de ceros: \\n{}\".format(arreglo_ceros))"
   ]
  },
  {
   "cell_type": "markdown",
   "metadata": {},
   "source": [
    "### Indexación, partición e iteración\n",
    "\n",
    "Para acceder a los elementos de un arreglo utilizamos indices, muy similar a las listas en python.\n",
    "\n",
    "Recordemos que los indices de un arreglo en programación, empiezan en el número 0.\n",
    "\n",
    "![](../img/img_01.png)"
   ]
  },
  {
   "cell_type": "markdown",
   "metadata": {},
   "source": [
    "#### Indexación, partición e iteración en arreglos unidimensionales"
   ]
  },
  {
   "cell_type": "code",
   "execution_count": 31,
   "metadata": {},
   "outputs": [
    {
     "name": "stdout",
     "output_type": "stream",
     "text": [
      "0\n",
      "19\n",
      "[1 2 3 4 5]\n",
      "[0 1 2 3 4 5]\n",
      "[ 2  3  4  5  6  7  8  9 10 11 12 13 14 15 16 17 18 19]\n",
      "[1 3 5]\n",
      "[5 4 3 2 1]\n",
      "0\n",
      "1\n",
      "2\n",
      "3\n",
      "4\n",
      "5\n",
      "6\n",
      "7\n",
      "8\n",
      "9\n",
      "10\n",
      "11\n",
      "12\n",
      "13\n",
      "14\n",
      "15\n",
      "16\n",
      "17\n",
      "18\n",
      "19\n"
     ]
    }
   ],
   "source": [
    "A = np.arange(20)\n",
    "# Para hacer referencia al indice, escribimos el nombre del arreglo y entre corchetes el número del indice\n",
    "# Primer elemento del arreglo A\n",
    "print(A[0])\n",
    "\n",
    "#Imprimimos todo el arreglo\n",
    "print(A[:])\n",
    "\n",
    "# También podemos usar indices negativos indicando que es el ultimo elemento del arreglo\n",
    "print(A[-1]) # A[-2] seria el penultimo elemento y así sucesivamente\n",
    "\n",
    "# También podemos recorrer el arreglo con el operador ':'\n",
    "print(A[1:6]) # Imprimira los elementos del 1 al 5. En general si arreglo[n:m] recorrerá de n a m-1\n",
    "\n",
    "print(A[:6]) # Imprime del elemento 0 al elemento 5\n",
    "\n",
    "print(A[2:]) # Imprime del elemento 2 en adelante\n",
    "\n",
    "# Al igual que el metodo arange podemos definir como recorremos el arreglo \n",
    "print(A[1:6:2]) # De 2 en 2\n",
    "\n",
    "# Tambien podemos recorrer de izquiera a derecha\n",
    "print(A[5:0:-1]) # Del elemento 6 al elemento 2\n",
    "\n",
    "# Un arreglo tambien puede ser recorrido con un ciclo for each\n",
    "for e in A:\n",
    "    print(e)"
   ]
  },
  {
   "cell_type": "markdown",
   "metadata": {},
   "source": [
    "#### Indexación, partición e iteración en arreglos multidimensionales\n",
    "\n",
    "Las listas de listas serian homólogas a los arreglos multidimensionales, pero la diferencia es la forma de indexar en una lista de lista utilizamos un par de corchetes '[ ]' por cada indice. En el caso de los ndarrays utilizamos solo un par de corchetes y separamos por comas dentro de ese corchete los indices.  "
   ]
  },
  {
   "cell_type": "code",
   "execution_count": 33,
   "metadata": {},
   "outputs": [
    {
     "name": "stdout",
     "output_type": "stream",
     "text": [
      "1\n",
      "1\n"
     ]
    }
   ],
   "source": [
    "lista = []\n",
    "\n",
    "for m in range(1, 10, 3):\n",
    "    lista.append([m, m+1, m+2])\n",
    "\n",
    "# Para acceder al elemento en una lista(0,0)\n",
    "print(lista[0][0])\n",
    "\n",
    "arreglo_m = np.array(lista)\n",
    "\n",
    "# Para acceder al elemento en un arreglo(0,0)\n",
    "print(arreglo[0, 0])"
   ]
  },
  {
   "cell_type": "code",
   "execution_count": 46,
   "metadata": {},
   "outputs": [
    {
     "name": "stdout",
     "output_type": "stream",
     "text": [
      "[[1 2 3]\n",
      " [4 5 6]\n",
      " [7 8 9]]\n",
      "[[1 2]\n",
      " [4 5]\n",
      " [7 8]]\n",
      "[[1 2]\n",
      " [4 5]]\n",
      "\n",
      "[1 2 3]\n",
      "\n",
      "[3 6 9]\n",
      "\n",
      "[1 2 3]\n",
      "[4 5 6]\n",
      "[7 8 9]\n"
     ]
    }
   ],
   "source": [
    "# Podemos utilizar las mismas técnicas de iteración del arreglo unidimensional a cada dimension del arreglo\n",
    "print(arreglo_m)\n",
    "print(arreglo_m[:, :2]) # [Imprimir todas las filas : , imprimir de la columna 0 hasta la 1]\n",
    "print(arreglo_m[:2, :2])\n",
    "print(\"\")\n",
    "print(arreglo_m[0]) # Si usamos unicamente un indice, estaremos imprimiendo la fila a la que hacemos referencia\n",
    "print(\"\")\n",
    "print(arreglo_m[..., 2]) # Tambien si queremos imprimir unicamente una fila podemos usar los tres puntos ...\n",
    "print(\"\")\n",
    "\n",
    "# La iteracion sobre arreglos multidimensionales es sobre el primer eje, en este caso las filas\n",
    "for fila in arreglo_m:\n",
    "    print(fila)"
   ]
  },
  {
   "cell_type": "markdown",
   "metadata": {},
   "source": [
    "### Operaciones\n",
    "\n",
    "Es una de las razones más importantes por las cuales el ndarray de NumPy es tan utilizado en computación científica."
   ]
  },
  {
   "cell_type": "code",
   "execution_count": 68,
   "metadata": {},
   "outputs": [],
   "source": [
    "# Realizar una suma de matrices o arreglos, no es tan sencillo realizar con listas\n",
    "\n",
    "# Suma de listas de dos dimensiones\n",
    "def sumar(lista_0, lista_1):\n",
    "    suma = []\n",
    "    # Verificamos que las dimensiones sean del mismo tamaño\n",
    "    if len(lista_0) == len(lista_1):\n",
    "        \n",
    "        if  len(lista_0[0]) == len(lista_1[0]):\n",
    "            \n",
    "            for i in range(len(lista_0)):\n",
    "            \n",
    "                temporal = []\n",
    "                \n",
    "                for k in range(len(lista_0[0])):\n",
    "                    temporal.append(lista_0[i][k] + lista_1[i][k])\n",
    "                \n",
    "                suma.append(temporal)\n",
    "    \n",
    "    return suma\n"
   ]
  },
  {
   "cell_type": "code",
   "execution_count": 71,
   "metadata": {},
   "outputs": [
    {
     "name": "stdout",
     "output_type": "stream",
     "text": [
      "[[1, 2], [3, 4]]\n",
      "[[5, 6], [7, 8]]\n",
      "[[6, 8], [10, 12]]\n",
      "[[ 6  8]\n",
      " [10 12]]\n",
      "[[-4 -4]\n",
      " [-4 -4]]\n"
     ]
    }
   ],
   "source": [
    "# Suma \n",
    "lista_0 = []\n",
    "lista_1 = []\n",
    "\n",
    "for k in range(1, 9, 2):\n",
    "    if k <= 4:\n",
    "        lista_0.append([k, k+1])\n",
    "    else:\n",
    "        lista_1.append([k, k+1])\n",
    "\n",
    "print(lista_0)\n",
    "print(lista_1)\n",
    "\n",
    "print(sumar(lista_0, lista_1))\n",
    "\n",
    "# Para realizar una simple suma tuvimos que crear una función para unicamente el caso especial de arreglos de dimensión 2\n",
    "\n",
    "array_0 = np.array(lista_0)\n",
    "array_1 = np.array(lista_1)\n",
    "\n",
    "# Ahora para realizar una suma en NumPy solo hay que usar el operador '+'\n",
    "# Para poder realizar estas operaciones los arreglos deben tener el mismo shape, numero de elementos por dimension\n",
    "suma_array = array_0 + array_1\n",
    "\n",
    "# Resta \n",
    "sustraccion_array = array_0 - array_1\n",
    "\n",
    "print(suma_array)\n",
    "print(sustraccion_array)"
   ]
  },
  {
   "cell_type": "markdown",
   "metadata": {},
   "source": [
    "#### Multplicación\n",
    "\n",
    "Para realizar mutliplicacón de arreglos se utiliza el producto de Hadamard o mutliplicación element-wise(Elemento por elemento)\n",
    "\n",
    "![](../img/img_03.png)\n",
    "\n",
    "![](../img/img_02.png)\n",
    "\n",
    "Y la divsion de Hadamard se denota así:\n",
    "\n",
    "![](../img/img_04.png)"
   ]
  },
  {
   "cell_type": "code",
   "execution_count": 78,
   "metadata": {},
   "outputs": [
    {
     "name": "stdout",
     "output_type": "stream",
     "text": [
      "[[ 5 12]\n",
      " [21 32]]\n",
      "[[0.2        0.33333333]\n",
      " [0.42857143 0.5       ]]\n",
      "[[10 24]\n",
      " [42 64]]\n",
      "[[ 7 14]\n",
      " [23 34]]\n",
      "[[ -3 -10]\n",
      " [-19 -30]]\n",
      "[[ 3 10]\n",
      " [19 30]]\n",
      "[[0.4        0.16666667]\n",
      " [0.0952381  0.0625    ]]\n",
      "[[ 2.5  6. ]\n",
      " [10.5 16. ]]\n"
     ]
    }
   ],
   "source": [
    "# Para poder realizar estas operaciones los arreglos deben tener el mismo shape, numero de elementos por dimension\n",
    "array_producto = array_0 * array_1 \n",
    "print(array_producto)\n",
    "\n",
    "division_array = array_0 / array_1\n",
    "print(division_array)\n",
    "\n",
    "# Multiplicación por escalar\n",
    "print(2 * array_producto)\n",
    "print(2 + array_producto)\n",
    "print(2 - array_producto)\n",
    "print(array_producto - 2)\n",
    "print(2 / array_producto)\n",
    "print(array_producto / 2)\n"
   ]
  },
  {
   "cell_type": "markdown",
   "metadata": {},
   "source": [
    "### Más funciones \n"
   ]
  }
 ],
 "metadata": {
  "kernelspec": {
   "display_name": "Python 3",
   "language": "python",
   "name": "python3"
  }
 },
 "nbformat": 4,
 "nbformat_minor": 2
}
